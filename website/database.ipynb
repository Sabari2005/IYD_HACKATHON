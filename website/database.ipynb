{
 "cells": [
  {
   "cell_type": "code",
   "execution_count": 1,
   "metadata": {},
   "outputs": [],
   "source": [
    "import sqlite3"
   ]
  },
  {
   "cell_type": "code",
   "execution_count": 2,
   "metadata": {},
   "outputs": [],
   "source": [
    "def get_db_connection():\n",
    "    conn = sqlite3.connect(\"chat.db\")\n",
    "    conn.row_factory = sqlite3.Row  # Makes rows accessible as dictionaries\n",
    "    return conn\n"
   ]
  },
  {
   "cell_type": "code",
   "execution_count": 3,
   "metadata": {},
   "outputs": [],
   "source": [
    "def create_tables():\n",
    "    conn = get_db_connection()\n",
    "    cursor = conn.cursor()\n",
    "\n",
    "    # Create `chats` table if it doesn't exist\n",
    "    cursor.execute(\"\"\"\n",
    "        CREATE TABLE IF NOT EXISTS chats (\n",
    "            id INTEGER PRIMARY KEY AUTOINCREMENT,\n",
    "            created_at TIMESTAMP DEFAULT CURRENT_TIMESTAMP\n",
    "        )\n",
    "    \"\"\")\n",
    "\n",
    "    # Create `messages` table if it doesn't exist\n",
    "    cursor.execute(\"\"\"\n",
    "        CREATE TABLE IF NOT EXISTS messages (\n",
    "            id INTEGER PRIMARY KEY AUTOINCREMENT,\n",
    "            chat_id INTEGER,\n",
    "            question TEXT,\n",
    "            answer TEXT,\n",
    "            created_at TIMESTAMP DEFAULT CURRENT_TIMESTAMP,\n",
    "            FOREIGN KEY (chat_id) REFERENCES chats(id)\n",
    "        )\n",
    "    \"\"\")\n",
    "\n",
    "    conn.commit()\n",
    "    conn.close()\n"
   ]
  },
  {
   "cell_type": "code",
   "execution_count": 4,
   "metadata": {},
   "outputs": [],
   "source": [
    "def drop_all_tables():\n",
    "    conn = get_db_connection()\n",
    "    cursor = conn.cursor()\n",
    "\n",
    "    # Drop the `messages` table\n",
    "    cursor.execute(\"DROP TABLE IF EXISTS messages\")\n",
    "\n",
    "    # Drop the `chats` table\n",
    "    cursor.execute(\"DROP TABLE IF EXISTS chats\")\n",
    "\n",
    "    conn.commit()\n",
    "    conn.close()\n",
    "    print(\"All tables have been dropped from the database.\")\n"
   ]
  },
  {
   "cell_type": "code",
   "execution_count": 5,
   "metadata": {},
   "outputs": [
    {
     "name": "stdout",
     "output_type": "stream",
     "text": [
      "All tables have been dropped from the database.\n"
     ]
    }
   ],
   "source": [
    "drop_all_tables()"
   ]
  },
  {
   "cell_type": "code",
   "execution_count": 6,
   "metadata": {},
   "outputs": [],
   "source": [
    "create_tables()"
   ]
  },
  {
   "cell_type": "code",
   "execution_count": 7,
   "metadata": {},
   "outputs": [],
   "source": [
    "def get_chats(chat_id):\n",
    "    conn = get_db_connection()\n",
    "    messages = conn.execute(\n",
    "        \"SELECT question, answer,created_at FROM messages WHERE chat_id = ? ORDER BY id\", (chat_id,)\n",
    "    ).fetchall()\n",
    "    print([dict(message) for message in messages])\n",
    "    conn.close()"
   ]
  },
  {
   "cell_type": "code",
   "execution_count": 23,
   "metadata": {},
   "outputs": [
    {
     "name": "stdout",
     "output_type": "stream",
     "text": [
      "[{'question': 'super la', 'answer': 'super la', 'created_at': '2025-01-09 06:41:36'}]\n"
     ]
    }
   ],
   "source": [
    "get_chats(1)"
   ]
  },
  {
   "cell_type": "code",
   "execution_count": null,
   "metadata": {},
   "outputs": [],
   "source": []
  }
 ],
 "metadata": {
  "kernelspec": {
   "display_name": "Python 3",
   "language": "python",
   "name": "python3"
  },
  "language_info": {
   "codemirror_mode": {
    "name": "ipython",
    "version": 3
   },
   "file_extension": ".py",
   "mimetype": "text/x-python",
   "name": "python",
   "nbconvert_exporter": "python",
   "pygments_lexer": "ipython3",
   "version": "3.11.9"
  }
 },
 "nbformat": 4,
 "nbformat_minor": 2
}
